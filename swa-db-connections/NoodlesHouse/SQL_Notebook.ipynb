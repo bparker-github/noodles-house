{
    "metadata": {
        "kernelspec": {
            "name": "SQL",
            "display_name": "SQL",
            "language": "sql"
        },
        "language_info": {
            "name": "sql",
            "version": ""
        }
    },
    "nbformat_minor": 2,
    "nbformat": 4,
    "cells": [
        {
            "cell_type": "markdown",
            "source": [
                "# Basic Commands \n",
                "\n",
                "## **Usage**\n",
                "\n",
                "Utilizing the Azure SQL database is lovely and all, but sometimes SSMS is better.\n",
                "\n",
                "Here we build up a Jupyter notebook to handle some of the basic queries often.\n",
                "\n",
                "This also allows for scrap-queries to be saved in case they can be used eventually."
            ],
            "metadata": {
                "azdata_cell_guid": "5de77081-55db-4ad4-9fb6-458a7dd44bcf"
            },
            "attachments": {}
        },
        {
            "cell_type": "markdown",
            "source": [
                "## GET Scripts"
            ],
            "metadata": {
                "azdata_cell_guid": "7d9da61d-7fb0-4f5a-8155-5432d79f9180"
            },
            "attachments": {}
        },
        {
            "cell_type": "markdown",
            "source": [
                "## UPDATE Scripts"
            ],
            "metadata": {
                "azdata_cell_guid": "12c53718-0ff0-4c58-89d6-7506f21bfe00"
            },
            "attachments": {}
        },
        {
            "cell_type": "markdown",
            "source": [
                "**Update Single Column** - Used to update single columns from one type to another"
            ],
            "metadata": {
                "language": "sql",
                "azdata_cell_guid": "ff1b64b4-ce20-42c8-a520-92658f8ccfcf"
            },
            "attachments": {}
        },
        {
            "cell_type": "code",
            "source": [
                "ALTER TABLE [dbo].[TodoTask]\n",
                "    ALTER COLUMN [UpdatedBy] VARCHAR(63) NULL;"
            ],
            "metadata": {
                "azdata_cell_guid": "346ab2a0-4d59-4c64-b742-071934893605",
                "language": "sql"
            },
            "outputs": [],
            "execution_count": null
        }
    ]
}